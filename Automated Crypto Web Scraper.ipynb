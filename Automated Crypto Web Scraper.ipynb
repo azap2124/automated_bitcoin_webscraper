{
 "cells": [
  {
   "cell_type": "code",
   "execution_count": null,
   "id": "a45ad984",
   "metadata": {},
   "outputs": [],
   "source": [
    "from bs4 import BeautifulSoup \n",
    "\n",
    "import requests \n",
    "\n",
    "import pandas as pd\n",
    "\n",
    "from datetime import datetime\n",
    "\n",
    "import os\n",
    "\n",
    "import time\n",
    "\n",
    "\n",
    "def automated_crypto_pull():\n",
    "\n",
    "    url = 'https://coinmarketcap.com/currencies/bitcoin/'\n",
    "\n",
    "    page = requests.get(url)\n",
    "\n",
    "    soup = BeautifulSoup(page.text, 'html')\n",
    "\n",
    "    crypto_name = soup.find('span', class_ = 'sc-f70bb44c-0 SVbay').text\n",
    "\n",
    "    crypto_price = soup.find('span', class_= 'sc-f70bb44c-0 jxpCgO base-text').text\n",
    "    final_price = crypto_price.replace('$','')\n",
    "    \n",
    "    date_time = datetime.now()\n",
    "\n",
    "    dict = {'Crypto Name': crypto_name,\n",
    "            'Price': final_price,\n",
    "            'TimeStamp': date_time}\n",
    "\n",
    "    df = pd.DataFrame([dict])\n",
    "    \n",
    "    if os.path.exists(r'C:\\Users\\azap2\\Documents\\Data Analytics\\Analysts Builder Python\\Crypto_scraper.csv'):\n",
    "        df.to_csv(r'C:\\Users\\azap2\\Documents\\Data Analytics\\Analysts Builder Python\\Crypto_scraper.csv', mode = 'a', header = False, index = False)\n",
    "\n",
    "    else: \n",
    "        df.to_csv(r'C:\\Users\\azap2\\Documents\\Data Analytics\\Analysts Builder Python\\Crypto_scraper.csv', index = False)\n",
    "        \n",
    "        \n",
    "while True: \n",
    "    time.sleep(3600)\n",
    "    automated_crypto_pull()"
   ]
  }
 ],
 "metadata": {
  "kernelspec": {
   "display_name": "Python 3 (ipykernel)",
   "language": "python",
   "name": "python3"
  },
  "language_info": {
   "codemirror_mode": {
    "name": "ipython",
    "version": 3
   },
   "file_extension": ".py",
   "mimetype": "text/x-python",
   "name": "python",
   "nbconvert_exporter": "python",
   "pygments_lexer": "ipython3",
   "version": "3.11.4"
  }
 },
 "nbformat": 4,
 "nbformat_minor": 5
}
